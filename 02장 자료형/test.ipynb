{
 "cells": [
  {
   "cell_type": "code",
   "execution_count": 18,
   "metadata": {},
   "outputs": [
    {
     "name": "stdout",
     "output_type": "stream",
     "text": [
      "65\n",
      "66\n",
      "1\n",
      "314.0\n",
      "314.0\n",
      "0.0314\n"
     ]
    }
   ],
   "source": [
    "print(ord('A')) # 인코딩 : 문자열을 숫자로\n",
    "print(ord('B'))\n",
    "\n",
    "chr(65)\n",
    "chr(65+25) # 디코딩 : 숫자를 문자열로\n",
    "\n",
    "a = 0\n",
    "b = 1\n",
    "c = a + b\n",
    "print(c)\n",
    "\n",
    "bin(ord('+'))\n",
    "\n",
    "print(3.14E2)\n",
    "print(3.14*10**2)\n",
    "print(3.14E-2)\n"
   ]
  },
  {
   "cell_type": "code",
   "execution_count": 3,
   "metadata": {},
   "outputs": [
    {
     "name": "stdout",
     "output_type": "stream",
     "text": [
      "C:\\PythonDev\\name\n"
     ]
    }
   ],
   "source": [
    "path = \"C:\\\\PythonDev\\\\name\"\n",
    "path = \"C:/PythonDev/name\"\n",
    "\n",
    "print(path)\n"
   ]
  },
  {
   "cell_type": "code",
   "execution_count": 5,
   "metadata": {},
   "outputs": [
    {
     "data": {
      "text/plain": [
       "'❤'"
      ]
     },
     "execution_count": 5,
     "metadata": {},
     "output_type": "execute_result"
    }
   ],
   "source": [
    "\"❤\" * 10\n",
    "ord('A')\n",
    "ord('한')\n",
    "ord(\"❤\")\n",
    "\n",
    "chr(10084)"
   ]
  },
  {
   "cell_type": "code",
   "execution_count": 21,
   "metadata": {},
   "outputs": [
    {
     "data": {
      "text/plain": [
       "5"
      ]
     },
     "execution_count": 21,
     "metadata": {},
     "output_type": "execute_result"
    }
   ],
   "source": [
    "# 인덱싱과 슬라이싱\n",
    "\n",
    "#       0123456789012345678901234567890123\n",
    "text = \"Life is too short, You need Python\"\n",
    "\n",
    "text[19]\n",
    "text[0]\n",
    "text[-1] == text[33] \n",
    "\n",
    "# text[시작인덱스 : 끝인덱스] = 시작 <=  <끝\n",
    "text[0:3 + 1]\n",
    "text[28:]\n",
    "text[:4]\n",
    "text[:]\n",
    "text\n",
    "\n",
    "li = [1, 2, 3, 4, 5]\n",
    "li[:2+1]\n",
    "li[-1]"
   ]
  },
  {
   "cell_type": "code",
   "execution_count": 28,
   "metadata": {},
   "outputs": [
    {
     "name": "stdout",
     "output_type": "stream",
     "text": [
      "영어님의 국어점수는 90점입니다.\n",
      "철수님의 국어점수는 80점입니다.\n",
      "길동님의 국어점수는 70점입니다.\n",
      "민수님의 국어점수는 60점입니다.\n",
      "존님의 국어점수는 50점입니다.\n"
     ]
    }
   ],
   "source": [
    "# 문자열 포매팅\n",
    "\n",
    "name = [\"영어\", \"철수\", \"길동\", \"민수\", \"존\"]\n",
    "subject = \"국어\"\n",
    "score = [90, 80, 70, 60, 50]\n",
    "#               0, 1, 2\n",
    "for n in range(len(name)):\n",
    "    text = \"%s님의 %s점수는 %d점입니다.\" % (name[n], subject, score[n])\n",
    "    print(text)\n"
   ]
  },
  {
   "cell_type": "code",
   "execution_count": 35,
   "metadata": {},
   "outputs": [
    {
     "name": "stdout",
     "output_type": "stream",
     "text": [
      "영희님의 수학 점수는 95점입니다.\n"
     ]
    }
   ],
   "source": [
    "# \"문자열\".formet()\n",
    "\n",
    "name = \"영희\"\n",
    "sub = \"수학\"\n",
    "score = 95\n",
    "\n",
    "## text = \"{0}님의 {1} 점수는 {2}점입니다.\".format(name, sub, score) # format뒤의 0=name, 1=sub, 2=score *Python은 0부터 시작된다.\n",
    "text = f\"{name}님의 {sub} 점수는 {score}점입니다.\" # f=formet\n",
    "print(text)"
   ]
  }
 ],
 "metadata": {
  "interpreter": {
   "hash": "8931d08a56ba8ec5bd4013e6d6c9066a90d099ecd0b9731835efa4c48cf46a24"
  },
  "kernelspec": {
   "display_name": "Python 3.10.1 64-bit",
   "language": "python",
   "name": "python3"
  },
  "language_info": {
   "codemirror_mode": {
    "name": "ipython",
    "version": 3
   },
   "file_extension": ".py",
   "mimetype": "text/x-python",
   "name": "python",
   "nbconvert_exporter": "python",
   "pygments_lexer": "ipython3",
   "version": "3.10.1"
  },
  "orig_nbformat": 4
 },
 "nbformat": 4,
 "nbformat_minor": 2
}
